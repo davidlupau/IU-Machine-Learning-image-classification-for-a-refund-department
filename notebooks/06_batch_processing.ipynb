{
 "cells": [
  {
   "cell_type": "markdown",
   "id": "707b89cbc2f5503c",
   "metadata": {},
   "source": [
    "# Batch processing"
   ]
  },
  {
   "cell_type": "markdown",
   "id": "eb22f53c9e17c439",
   "metadata": {},
   "source": [
    "## Folder structure for returned images and overnight batch processing\n",
    "```project_directory/\n",
    "├── data/\n",
    "│   ├── new_returns/  <-- New images to be processed will be savde here\n",
    "│   ├── processed_returns/  <-- Processed images will be moved here\n",
    "│   └── processed_archive/  <-- Processed images will be archived here\n",
    "├── batch_processing.py\n",
    "├── cron_runner_script.sh\n",
    "├── crontab.txt\n",
    "```\n",
    "\n",
    "New return images that need to be processed should be saved into the ./data/new_returns/ directory. The cron job will then automatically trigger the batch processing script to classify these images and store the results.\n",
    "The processed images will be moved to the ./data/processed_returns/ directory, and the ./data/processed_archive/ directory will contain a chronological archive of all previously processed images.\n",
    "A CSV file with the processing results will be saved in the ./data/processed_returns/ directory. A batch_processing.log file will also be created and can provide insights on how the process went."
   ]
  },
  {
   "cell_type": "markdown",
   "id": "6c2550320ad81bbd",
   "metadata": {},
   "source": [
    "## cron_runner_scrip.sh"
   ]
  },
  {
   "cell_type": "code",
   "execution_count": null,
   "id": "970b6fcca9b2eb20",
   "metadata": {},
   "outputs": [],
   "source": [
    "#!/bin/bash\n",
    "\n",
    "# Set error handling\n",
    "set -e\n",
    "\n",
    "# Get the directory where the script is located\n",
    "PROJECT_DIR=\"$( cd \"$( dirname \"${BASH_SOURCE[0]}\" )\" &> /dev/null && pwd )\"\n",
    "\n",
    "# Navigate to project directory\n",
    "cd \"$PROJECT_DIR\"\n",
    "\n",
    "# Activate virtual environment (assuming it's in project root)\n",
    "source ./venv/bin/activate\n",
    "\n",
    "# Run batch processing script\n",
    "python batch_processing.py >> batch_processing.log 2>&1\n",
    "\n",
    "# Add timestamp to log\n",
    "echo \"Batch processing completed at $(date)\" >> batch_processing.log\n",
    "\n",
    "# Send email notification\n",
    "echo \"Batch processing completed on $(date)\" | /usr/bin/mail -s \"Batch Processing Report\" david-patrick-philippe.lupau@iu-study.org"
   ]
  },
  {
   "cell_type": "markdown",
   "id": "b9a0671350edee44",
   "metadata": {},
   "source": [
    "Ensure the `cron_runner_script.sh` file has the necessary execute permissions by running `chmod +x cron_runner_script.sh` in the terminal\n",
    "\n",
    "## Set Up Cron Job Using Nano\n",
    "   - Open the Nano text editor by running `nano crontab.txt` in the terminal.\n",
    "   - Add the cron job entry: `0 0 * * * /path/to/your/cron_runner_script.sh`\n",
    "   - Press Ctrl+X to exit, then Y to save the changes.\n",
    "   - Apply the changes to the crontab by running `crontab crontab.txt`.\n"
   ]
  }
 ],
 "metadata": {
  "kernelspec": {
   "display_name": "Python 3",
   "language": "python",
   "name": "python3"
  },
  "language_info": {
   "codemirror_mode": {
    "name": "ipython",
    "version": 2
   },
   "file_extension": ".py",
   "mimetype": "text/x-python",
   "name": "python",
   "nbconvert_exporter": "python",
   "pygments_lexer": "ipython2",
   "version": "2.7.6"
  }
 },
 "nbformat": 4,
 "nbformat_minor": 5
}
