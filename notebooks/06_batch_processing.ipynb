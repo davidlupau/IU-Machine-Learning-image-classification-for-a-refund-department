{
 "cells": [
  {
   "metadata": {},
   "cell_type": "markdown",
   "source": "# Batch processing",
   "id": "707b89cbc2f5503c"
  },
  {
   "metadata": {},
   "cell_type": "markdown",
   "source": [
    "## Folder structure for returned images and overnight batch processing\n",
    "```project_directory/\n",
    "├── data/\n",
    "│   ├── new_returns/  <-- New images to be processed will be savde here\n",
    "│   ├── processed_returns/  <-- Processed images will be moved here\n",
    "│   └── processed_archive/  <-- Processed images will be archived here\n",
    "├── batch_processing.py\n",
    "├── cron_runner_script.sh\n",
    "```\n",
    "\n",
    "New return images that need to be processed should be saved into the ./data/new_returns/ directory. The cron job will then automatically trigger the batch processing script to classify these images and store the results.\n",
    "The processed images will be moved to the ./data/processed_returns/ directory, and the ./data/processed_archive/ directory will contain a chronological archive of all previously processed images.\n",
    "A CSV file with the processing results will be saved in the ./data/processed_returns/ directory."
   ],
   "id": "eb22f53c9e17c439"
  },
  {
   "metadata": {},
   "cell_type": "markdown",
   "source": "## cron_runner_scrip.sh",
   "id": "6c2550320ad81bbd"
  },
  {
   "metadata": {},
   "cell_type": "code",
   "outputs": [],
   "execution_count": null,
   "source": [
    "#!/bin/bash\n",
    "\n",
    "# Activate virtual environment\n",
    "source ./venv/bin/activate\n",
    "\n",
    "# Run batch processing script\n",
    "python batch_processing.py\n",
    "\n",
    "# Send email notification\n",
    "echo \"Batch processing completed on $(date)\" | /usr/bin/mail -s \"Batch Processing Report\" david-patrick-philippe.lupau@iu-study.org"
   ],
   "id": "970b6fcca9b2eb20"
  },
  {
   "metadata": {},
   "cell_type": "markdown",
   "source": "## Create a cron job",
   "id": "b9a0671350edee44"
  }
 ],
 "metadata": {
  "kernelspec": {
   "display_name": "Python 3",
   "language": "python",
   "name": "python3"
  },
  "language_info": {
   "codemirror_mode": {
    "name": "ipython",
    "version": 2
   },
   "file_extension": ".py",
   "mimetype": "text/x-python",
   "name": "python",
   "nbconvert_exporter": "python",
   "pygments_lexer": "ipython2",
   "version": "2.7.6"
  }
 },
 "nbformat": 4,
 "nbformat_minor": 5
}
